{
  "nbformat": 4,
  "nbformat_minor": 0,
  "metadata": {
    "colab": {
      "provenance": [],
      "toc_visible": true,
      "authorship_tag": "ABX9TyOCb1HyKMjXBKGSj7kTw0Gx",
      "include_colab_link": true
    },
    "kernelspec": {
      "name": "python3",
      "display_name": "Python 3"
    },
    "language_info": {
      "name": "python"
    }
  },
  "cells": [
    {
      "cell_type": "markdown",
      "metadata": {
        "id": "view-in-github",
        "colab_type": "text"
      },
      "source": [
        "<a href=\"https://colab.research.google.com/github/ratheesh-17/AIOT-Environment-Status-Classifier/blob/main/AIOT2.ipynb\" target=\"_parent\"><img src=\"https://colab.research.google.com/assets/colab-badge.svg\" alt=\"Open In Colab\"/></a>"
      ]
    },
    {
      "cell_type": "markdown",
      "source": [
        "Imprting the Dependencies"
      ],
      "metadata": {
        "id": "aUdMHmw88KHY"
      }
    },
    {
      "cell_type": "code",
      "execution_count": 7,
      "metadata": {
        "id": "DfqGpFwQ6u6L"
      },
      "outputs": [],
      "source": [
        "import pandas as pd\n",
        "import numpy as np\n",
        "from sklearn.ensemble import RandomForestClassifier\n",
        "from sklearn.model_selection import train_test_split\n",
        "from sklearn.metrics import classification_report, confusion_matrix\n",
        "import matplotlib.pyplot as plt"
      ]
    },
    {
      "cell_type": "markdown",
      "source": [
        "Generating the Dataset"
      ],
      "metadata": {
        "id": "gJQPploX8Pah"
      }
    },
    {
      "cell_type": "code",
      "source": [
        "np.random.seed(42)\n",
        "temperature = np.random.uniform(15, 40, 1000)\n",
        "humidity = np.random.uniform(20, 80, 1000)\n",
        "# Simple rule-based labeling\n",
        "labels = []\n",
        "for t, h in zip(temperature, humidity):\n",
        "  if t > 35 or h < 25:\n",
        "    labels.append(\"Critical\")\n",
        "  elif 30 <= t <= 35 or 25 <= h <= 35:\n",
        "    labels.append(\"Warning\")\n",
        "  else:\n",
        "    labels.append(\"Normal\")\n",
        "data =  pd.DataFrame({'temperature': temperature, 'humidity': humidity, 'status': labels})"
      ],
      "metadata": {
        "id": "njlPq8MI6-cG"
      },
      "execution_count": 8,
      "outputs": []
    },
    {
      "cell_type": "markdown",
      "source": [
        "Training the Model"
      ],
      "metadata": {
        "id": "zick8SQ88fJO"
      }
    },
    {
      "cell_type": "code",
      "source": [
        "X = data[['temperature', 'humidity']]\n",
        "y = data['status']\n",
        "# Encode target labels\n",
        "y_encoded = pd.factorize(y)[0]\n",
        "# Split into training and testing\n",
        "X_train, X_test, y_train, y_test = train_test_split(X, y_encoded, test_size=0.2,\n",
        "random_state=42)"
      ],
      "metadata": {
        "id": "R6xjGwdj8V1g"
      },
      "execution_count": 9,
      "outputs": []
    },
    {
      "cell_type": "markdown",
      "source": [
        "Displaying Classification Report"
      ],
      "metadata": {
        "id": "33qbZnlf89ID"
      }
    },
    {
      "cell_type": "code",
      "source": [
        "# Train classifier\n",
        "model = RandomForestClassifier(n_estimators=100, random_state=42)\n",
        "model.fit(X_train, y_train)\n",
        "# Evaluate\n",
        "y_pred = model.predict(X_test)\n",
        "print(\"Classification Report:\")\n",
        "print(classification_report(y_test, y_pred, target_names=pd.unique(y)))"
      ],
      "metadata": {
        "colab": {
          "base_uri": "https://localhost:8080/"
        },
        "collapsed": true,
        "id": "FNJdAN668ui6",
        "outputId": "3912eea7-ee51-44d1-bebd-e27ef0a7e69f"
      },
      "execution_count": 10,
      "outputs": [
        {
          "output_type": "stream",
          "name": "stdout",
          "text": [
            "Classification Report:\n",
            "              precision    recall  f1-score   support\n",
            "\n",
            "     Warning       1.00      1.00      1.00        57\n",
            "    Critical       1.00      1.00      1.00        53\n",
            "      Normal       1.00      1.00      1.00        90\n",
            "\n",
            "    accuracy                           1.00       200\n",
            "   macro avg       1.00      1.00      1.00       200\n",
            "weighted avg       1.00      1.00      1.00       200\n",
            "\n"
          ]
        }
      ]
    },
    {
      "cell_type": "markdown",
      "source": [
        "Visualizing the Confusion Matrix"
      ],
      "metadata": {
        "id": "9kDJpkcg9rfF"
      }
    },
    {
      "cell_type": "code",
      "source": [
        "cm = confusion_matrix(y_test, y_pred)\n",
        "plt.imshow(cm, cmap='Blues')\n",
        "plt.title(\"Confusion Matrix\")\n",
        "plt.xlabel(\"Predicted\")\n",
        "plt.ylabel(\"Actual\")\n",
        "\n",
        "plt.xticks(ticks=[0, 1, 2], labels=pd.unique(y))\n",
        "plt.yticks(ticks=[0, 1, 2], labels=pd.unique(y))\n",
        "plt.colorbar()\n",
        "plt.show()"
      ],
      "metadata": {
        "colab": {
          "base_uri": "https://localhost:8080/",
          "height": 472
        },
        "id": "Endu5FNr9Gv_",
        "outputId": "7006ff14-bb59-434d-bfeb-b970c2502518"
      },
      "execution_count": 11,
      "outputs": [
        {
          "output_type": "display_data",
          "data": {
            "text/plain": [
              "<Figure size 640x480 with 2 Axes>"
            ],
            "image/png": "[encoded data removed]"
          },
          "metadata": {}
        }
      ]
    }
  ]
}